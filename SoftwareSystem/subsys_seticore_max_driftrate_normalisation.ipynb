{
 "cells": [
  {
   "attachments": {},
   "cell_type": "markdown",
   "metadata": {},
   "source": [
    "The `seticore::Dedopplerer` class is instantiated with statements of the beamformed data that it will be searching through:\n",
    "\n",
    "- num_timesteps: the number of spectra in the chunk of data\n",
    "- num_channels: the number of channels in each spectrum in the chunk of data\n",
    "- foff: the frequency-width of each channel (MHz)\n",
    "- tsamp: the timespan of each spectrum (s)\n",
    "\n",
    "! Note that the Dedopplerer only computes on power-of-2 spectra at a time. !"
   ]
  },
  {
   "cell_type": "code",
   "execution_count": 1,
   "metadata": {},
   "outputs": [
    {
     "name": "stdout",
     "output_type": "stream",
     "text": [
      "foff_hz: 7.62939453125\n",
      "tsamp_s: 0.131072\n"
     ]
    }
   ],
   "source": [
    "num_timesteps = 64 # VLASS-spec produces 64 fine-spectra per 8.388 s raw part-files\n",
    "num_channels = 1*131072 # VLASS-spec processes 1 coarse-channel\n",
    "foff_hz = 1e6/131072 # COSMIC records 1 MHz channels, upchannelised by a factor of 131072\n",
    "tsamp_s = 1/foff_hz\n",
    "\n",
    "import math\n",
    "assert 2**(math.log2(num_timesteps)) == num_timesteps\n",
    "\n",
    "print(f\"foff_hz: {foff_hz}\")\n",
    "print(f\"tsamp_s: {tsamp_s}\")"
   ]
  },
  {
   "attachments": {},
   "cell_type": "markdown",
   "metadata": {},
   "source": [
    "The `Dedopplerer` ultimately ([1](https://github.com/lacker/seticore/blob/1a4275b9a37898e3146da782856deea3a6adcacd/dedoppler.cu#L84-L87) [2](https://github.com/lacker/seticore/blob/1a4275b9a37898e3146da782856deea3a6adcacd/dedoppler.cu#L195)) defines:\n",
    "\n",
    "$ diagonal\\_drift\\_rate = \\frac{(num\\_timesteps-1) \\times foff\\_hz}{(num\\_timesteps-1) \\times tsamp\\_s} =  \\frac{foff\\_hz}{tsamp\\_s}$\n",
    "\n",
    "The `max_drift` argument for the `search()` method, is then 'normalised' against `diagonal_drift_rate` ([3](https://github.com/lacker/seticore/blob/1a4275b9a37898e3146da782856deea3a6adcacd/dedoppler.cu#L196)):\n",
    "\n",
    "$ normalized\\_max\\_drift = \\frac{max\\_drift}{|diagonal\\_drift\\_rate|} $\n",
    "\n",
    "This `normalized_max_drift` value is the number of `drift_blocks` ('minimal chunk') that will be searched.\n",
    "\n",
    "\n",
    "Effectively though, the maximum drift-rate that could be found is a natural multiple of `diagonal_drift_rate`."
   ]
  },
  {
   "cell_type": "code",
   "execution_count": 2,
   "metadata": {},
   "outputs": [
    {
     "data": {
      "text/plain": [
       "58.20766091346741"
      ]
     },
     "execution_count": 2,
     "metadata": {},
     "output_type": "execute_result"
    }
   ],
   "source": [
    "diagonal_drift_rate = foff_hz/tsamp_s\n",
    "diagonal_drift_rate"
   ]
  }
 ],
 "metadata": {
  "kernelspec": {
   "display_name": "Python 3",
   "language": "python",
   "name": "python3"
  },
  "language_info": {
   "codemirror_mode": {
    "name": "ipython",
    "version": 3
   },
   "file_extension": ".py",
   "mimetype": "text/x-python",
   "name": "python",
   "nbconvert_exporter": "python",
   "pygments_lexer": "ipython3",
   "version": "3.10.2"
  },
  "orig_nbformat": 4
 },
 "nbformat": 4,
 "nbformat_minor": 2
}
